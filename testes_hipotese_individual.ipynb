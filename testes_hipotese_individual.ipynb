{
  "nbformat": 4,
  "nbformat_minor": 0,
  "metadata": {
    "colab": {
      "provenance": [],
      "authorship_tag": "ABX9TyPVfhNY4SpXjRqb0jmWFuW9"
    },
    "kernelspec": {
      "name": "python3",
      "display_name": "Python 3"
    },
    "language_info": {
      "name": "python"
    }
  },
  "cells": [
    {
      "cell_type": "markdown",
      "source": [
        "# <font color=\"#0a9396\"> Desafio Individual - Testes de Hipótese\n",
        "\n",
        "### Considerando a base de dados `experimento_test_ab.csv` responda as questões abaixo:"
      ],
      "metadata": {
        "id": "j44s8EFMmLFX"
      }
    },
    {
      "cell_type": "code",
      "source": [
        "import pandas as pd\n",
        "import numpy as np\n",
        "\n",
        "from scipy.stats import stats\n",
        "from scipy.stats import ttest_1samp, ttest_ind, f_oneway, norm, kstest, chi2_contingency"
      ],
      "metadata": {
        "id": "qvRhRQ2GsLFQ"
      },
      "execution_count": null,
      "outputs": []
    },
    {
      "cell_type": "code",
      "source": [
        "df = pd.read_csv(\"experimento_teste_ab.csv\")\n",
        "df.head()"
      ],
      "metadata": {
        "colab": {
          "base_uri": "https://localhost:8080/",
          "height": 206
        },
        "id": "QttcwDNBtgZ0",
        "outputId": "0204d717-0519-4699-a716-fe55e9599cbe"
      },
      "execution_count": null,
      "outputs": [
        {
          "output_type": "execute_result",
          "data": {
            "text/plain": [
              "   Visitante_ID Versão_Página  Visualizações  Conversões\n",
              "0             1             A            167           1\n",
              "1             2             A            160           0\n",
              "2             3             A            170           0\n",
              "3             4             A            161           1\n",
              "4             5             A            104           0"
            ],
            "text/html": [
              "\n",
              "  <div id=\"df-9ff78940-f305-4bf7-9785-3b5b6998f92f\" class=\"colab-df-container\">\n",
              "    <div>\n",
              "<style scoped>\n",
              "    .dataframe tbody tr th:only-of-type {\n",
              "        vertical-align: middle;\n",
              "    }\n",
              "\n",
              "    .dataframe tbody tr th {\n",
              "        vertical-align: top;\n",
              "    }\n",
              "\n",
              "    .dataframe thead th {\n",
              "        text-align: right;\n",
              "    }\n",
              "</style>\n",
              "<table border=\"1\" class=\"dataframe\">\n",
              "  <thead>\n",
              "    <tr style=\"text-align: right;\">\n",
              "      <th></th>\n",
              "      <th>Visitante_ID</th>\n",
              "      <th>Versão_Página</th>\n",
              "      <th>Visualizações</th>\n",
              "      <th>Conversões</th>\n",
              "    </tr>\n",
              "  </thead>\n",
              "  <tbody>\n",
              "    <tr>\n",
              "      <th>0</th>\n",
              "      <td>1</td>\n",
              "      <td>A</td>\n",
              "      <td>167</td>\n",
              "      <td>1</td>\n",
              "    </tr>\n",
              "    <tr>\n",
              "      <th>1</th>\n",
              "      <td>2</td>\n",
              "      <td>A</td>\n",
              "      <td>160</td>\n",
              "      <td>0</td>\n",
              "    </tr>\n",
              "    <tr>\n",
              "      <th>2</th>\n",
              "      <td>3</td>\n",
              "      <td>A</td>\n",
              "      <td>170</td>\n",
              "      <td>0</td>\n",
              "    </tr>\n",
              "    <tr>\n",
              "      <th>3</th>\n",
              "      <td>4</td>\n",
              "      <td>A</td>\n",
              "      <td>161</td>\n",
              "      <td>1</td>\n",
              "    </tr>\n",
              "    <tr>\n",
              "      <th>4</th>\n",
              "      <td>5</td>\n",
              "      <td>A</td>\n",
              "      <td>104</td>\n",
              "      <td>0</td>\n",
              "    </tr>\n",
              "  </tbody>\n",
              "</table>\n",
              "</div>\n",
              "    <div class=\"colab-df-buttons\">\n",
              "\n",
              "  <div class=\"colab-df-container\">\n",
              "    <button class=\"colab-df-convert\" onclick=\"convertToInteractive('df-9ff78940-f305-4bf7-9785-3b5b6998f92f')\"\n",
              "            title=\"Convert this dataframe to an interactive table.\"\n",
              "            style=\"display:none;\">\n",
              "\n",
              "  <svg xmlns=\"http://www.w3.org/2000/svg\" height=\"24px\" viewBox=\"0 -960 960 960\">\n",
              "    <path d=\"M120-120v-720h720v720H120Zm60-500h600v-160H180v160Zm220 220h160v-160H400v160Zm0 220h160v-160H400v160ZM180-400h160v-160H180v160Zm440 0h160v-160H620v160ZM180-180h160v-160H180v160Zm440 0h160v-160H620v160Z\"/>\n",
              "  </svg>\n",
              "    </button>\n",
              "\n",
              "  <style>\n",
              "    .colab-df-container {\n",
              "      display:flex;\n",
              "      gap: 12px;\n",
              "    }\n",
              "\n",
              "    .colab-df-convert {\n",
              "      background-color: #E8F0FE;\n",
              "      border: none;\n",
              "      border-radius: 50%;\n",
              "      cursor: pointer;\n",
              "      display: none;\n",
              "      fill: #1967D2;\n",
              "      height: 32px;\n",
              "      padding: 0 0 0 0;\n",
              "      width: 32px;\n",
              "    }\n",
              "\n",
              "    .colab-df-convert:hover {\n",
              "      background-color: #E2EBFA;\n",
              "      box-shadow: 0px 1px 2px rgba(60, 64, 67, 0.3), 0px 1px 3px 1px rgba(60, 64, 67, 0.15);\n",
              "      fill: #174EA6;\n",
              "    }\n",
              "\n",
              "    .colab-df-buttons div {\n",
              "      margin-bottom: 4px;\n",
              "    }\n",
              "\n",
              "    [theme=dark] .colab-df-convert {\n",
              "      background-color: #3B4455;\n",
              "      fill: #D2E3FC;\n",
              "    }\n",
              "\n",
              "    [theme=dark] .colab-df-convert:hover {\n",
              "      background-color: #434B5C;\n",
              "      box-shadow: 0px 1px 3px 1px rgba(0, 0, 0, 0.15);\n",
              "      filter: drop-shadow(0px 1px 2px rgba(0, 0, 0, 0.3));\n",
              "      fill: #FFFFFF;\n",
              "    }\n",
              "  </style>\n",
              "\n",
              "    <script>\n",
              "      const buttonEl =\n",
              "        document.querySelector('#df-9ff78940-f305-4bf7-9785-3b5b6998f92f button.colab-df-convert');\n",
              "      buttonEl.style.display =\n",
              "        google.colab.kernel.accessAllowed ? 'block' : 'none';\n",
              "\n",
              "      async function convertToInteractive(key) {\n",
              "        const element = document.querySelector('#df-9ff78940-f305-4bf7-9785-3b5b6998f92f');\n",
              "        const dataTable =\n",
              "          await google.colab.kernel.invokeFunction('convertToInteractive',\n",
              "                                                    [key], {});\n",
              "        if (!dataTable) return;\n",
              "\n",
              "        const docLinkHtml = 'Like what you see? Visit the ' +\n",
              "          '<a target=\"_blank\" href=https://colab.research.google.com/notebooks/data_table.ipynb>data table notebook</a>'\n",
              "          + ' to learn more about interactive tables.';\n",
              "        element.innerHTML = '';\n",
              "        dataTable['output_type'] = 'display_data';\n",
              "        await google.colab.output.renderOutput(dataTable, element);\n",
              "        const docLink = document.createElement('div');\n",
              "        docLink.innerHTML = docLinkHtml;\n",
              "        element.appendChild(docLink);\n",
              "      }\n",
              "    </script>\n",
              "  </div>\n",
              "\n",
              "\n",
              "<div id=\"df-34a00667-ffec-4af1-8214-2c9b9a78664e\">\n",
              "  <button class=\"colab-df-quickchart\" onclick=\"quickchart('df-34a00667-ffec-4af1-8214-2c9b9a78664e')\"\n",
              "            title=\"Suggest charts\"\n",
              "            style=\"display:none;\">\n",
              "\n",
              "<svg xmlns=\"http://www.w3.org/2000/svg\" height=\"24px\"viewBox=\"0 0 24 24\"\n",
              "     width=\"24px\">\n",
              "    <g>\n",
              "        <path d=\"M19 3H5c-1.1 0-2 .9-2 2v14c0 1.1.9 2 2 2h14c1.1 0 2-.9 2-2V5c0-1.1-.9-2-2-2zM9 17H7v-7h2v7zm4 0h-2V7h2v10zm4 0h-2v-4h2v4z\"/>\n",
              "    </g>\n",
              "</svg>\n",
              "  </button>\n",
              "\n",
              "<style>\n",
              "  .colab-df-quickchart {\n",
              "      --bg-color: #E8F0FE;\n",
              "      --fill-color: #1967D2;\n",
              "      --hover-bg-color: #E2EBFA;\n",
              "      --hover-fill-color: #174EA6;\n",
              "      --disabled-fill-color: #AAA;\n",
              "      --disabled-bg-color: #DDD;\n",
              "  }\n",
              "\n",
              "  [theme=dark] .colab-df-quickchart {\n",
              "      --bg-color: #3B4455;\n",
              "      --fill-color: #D2E3FC;\n",
              "      --hover-bg-color: #434B5C;\n",
              "      --hover-fill-color: #FFFFFF;\n",
              "      --disabled-bg-color: #3B4455;\n",
              "      --disabled-fill-color: #666;\n",
              "  }\n",
              "\n",
              "  .colab-df-quickchart {\n",
              "    background-color: var(--bg-color);\n",
              "    border: none;\n",
              "    border-radius: 50%;\n",
              "    cursor: pointer;\n",
              "    display: none;\n",
              "    fill: var(--fill-color);\n",
              "    height: 32px;\n",
              "    padding: 0;\n",
              "    width: 32px;\n",
              "  }\n",
              "\n",
              "  .colab-df-quickchart:hover {\n",
              "    background-color: var(--hover-bg-color);\n",
              "    box-shadow: 0 1px 2px rgba(60, 64, 67, 0.3), 0 1px 3px 1px rgba(60, 64, 67, 0.15);\n",
              "    fill: var(--button-hover-fill-color);\n",
              "  }\n",
              "\n",
              "  .colab-df-quickchart-complete:disabled,\n",
              "  .colab-df-quickchart-complete:disabled:hover {\n",
              "    background-color: var(--disabled-bg-color);\n",
              "    fill: var(--disabled-fill-color);\n",
              "    box-shadow: none;\n",
              "  }\n",
              "\n",
              "  .colab-df-spinner {\n",
              "    border: 2px solid var(--fill-color);\n",
              "    border-color: transparent;\n",
              "    border-bottom-color: var(--fill-color);\n",
              "    animation:\n",
              "      spin 1s steps(1) infinite;\n",
              "  }\n",
              "\n",
              "  @keyframes spin {\n",
              "    0% {\n",
              "      border-color: transparent;\n",
              "      border-bottom-color: var(--fill-color);\n",
              "      border-left-color: var(--fill-color);\n",
              "    }\n",
              "    20% {\n",
              "      border-color: transparent;\n",
              "      border-left-color: var(--fill-color);\n",
              "      border-top-color: var(--fill-color);\n",
              "    }\n",
              "    30% {\n",
              "      border-color: transparent;\n",
              "      border-left-color: var(--fill-color);\n",
              "      border-top-color: var(--fill-color);\n",
              "      border-right-color: var(--fill-color);\n",
              "    }\n",
              "    40% {\n",
              "      border-color: transparent;\n",
              "      border-right-color: var(--fill-color);\n",
              "      border-top-color: var(--fill-color);\n",
              "    }\n",
              "    60% {\n",
              "      border-color: transparent;\n",
              "      border-right-color: var(--fill-color);\n",
              "    }\n",
              "    80% {\n",
              "      border-color: transparent;\n",
              "      border-right-color: var(--fill-color);\n",
              "      border-bottom-color: var(--fill-color);\n",
              "    }\n",
              "    90% {\n",
              "      border-color: transparent;\n",
              "      border-bottom-color: var(--fill-color);\n",
              "    }\n",
              "  }\n",
              "</style>\n",
              "\n",
              "  <script>\n",
              "    async function quickchart(key) {\n",
              "      const quickchartButtonEl =\n",
              "        document.querySelector('#' + key + ' button');\n",
              "      quickchartButtonEl.disabled = true;  // To prevent multiple clicks.\n",
              "      quickchartButtonEl.classList.add('colab-df-spinner');\n",
              "      try {\n",
              "        const charts = await google.colab.kernel.invokeFunction(\n",
              "            'suggestCharts', [key], {});\n",
              "      } catch (error) {\n",
              "        console.error('Error during call to suggestCharts:', error);\n",
              "      }\n",
              "      quickchartButtonEl.classList.remove('colab-df-spinner');\n",
              "      quickchartButtonEl.classList.add('colab-df-quickchart-complete');\n",
              "    }\n",
              "    (() => {\n",
              "      let quickchartButtonEl =\n",
              "        document.querySelector('#df-34a00667-ffec-4af1-8214-2c9b9a78664e button');\n",
              "      quickchartButtonEl.style.display =\n",
              "        google.colab.kernel.accessAllowed ? 'block' : 'none';\n",
              "    })();\n",
              "  </script>\n",
              "</div>\n",
              "\n",
              "    </div>\n",
              "  </div>\n"
            ],
            "application/vnd.google.colaboratory.intrinsic+json": {
              "type": "dataframe",
              "variable_name": "df",
              "summary": "{\n  \"name\": \"df\",\n  \"rows\": 2000,\n  \"fields\": [\n    {\n      \"column\": \"Visitante_ID\",\n      \"properties\": {\n        \"dtype\": \"number\",\n        \"std\": 577,\n        \"min\": 1,\n        \"max\": 2000,\n        \"num_unique_values\": 2000,\n        \"samples\": [\n          1861,\n          354,\n          1334\n        ],\n        \"semantic_type\": \"\",\n        \"description\": \"\"\n      }\n    },\n    {\n      \"column\": \"Vers\\u00e3o_P\\u00e1gina\",\n      \"properties\": {\n        \"dtype\": \"category\",\n        \"num_unique_values\": 2,\n        \"samples\": [\n          \"B\",\n          \"A\"\n        ],\n        \"semantic_type\": \"\",\n        \"description\": \"\"\n      }\n    },\n    {\n      \"column\": \"Visualiza\\u00e7\\u00f5es\",\n      \"properties\": {\n        \"dtype\": \"number\",\n        \"std\": 28,\n        \"min\": 100,\n        \"max\": 199,\n        \"num_unique_values\": 100,\n        \"samples\": [\n          192,\n          107\n        ],\n        \"semantic_type\": \"\",\n        \"description\": \"\"\n      }\n    },\n    {\n      \"column\": \"Convers\\u00f5es\",\n      \"properties\": {\n        \"dtype\": \"number\",\n        \"std\": 0,\n        \"min\": 0,\n        \"max\": 1,\n        \"num_unique_values\": 2,\n        \"samples\": [\n          0,\n          1\n        ],\n        \"semantic_type\": \"\",\n        \"description\": \"\"\n      }\n    }\n  ]\n}"
            }
          },
          "metadata": {},
          "execution_count": 3
        }
      ]
    },
    {
      "cell_type": "code",
      "source": [
        "df.shape"
      ],
      "metadata": {
        "colab": {
          "base_uri": "https://localhost:8080/"
        },
        "id": "gWBVQfDgxX_5",
        "outputId": "d3352626-ec18-4778-d078-ffeadf6fc4e5"
      },
      "execution_count": null,
      "outputs": [
        {
          "output_type": "execute_result",
          "data": {
            "text/plain": [
              "(2000, 4)"
            ]
          },
          "metadata": {},
          "execution_count": 5
        }
      ]
    },
    {
      "cell_type": "code",
      "source": [
        "df.describe()"
      ],
      "metadata": {
        "colab": {
          "base_uri": "https://localhost:8080/",
          "height": 300
        },
        "id": "gGv1ZYQpIbxe",
        "outputId": "3c178960-7045-4998-f8b8-99dab7b322d8"
      },
      "execution_count": null,
      "outputs": [
        {
          "output_type": "execute_result",
          "data": {
            "text/plain": [
              "       Visitante_ID  Visualizações   Conversões\n",
              "count   2000.000000    2000.000000  2000.000000\n",
              "mean    1000.500000     150.755500     0.115000\n",
              "std      577.494589      28.809421     0.319102\n",
              "min        1.000000     100.000000     0.000000\n",
              "25%      500.750000     126.000000     0.000000\n",
              "50%     1000.500000     151.000000     0.000000\n",
              "75%     1500.250000     175.000000     0.000000\n",
              "max     2000.000000     199.000000     1.000000"
            ],
            "text/html": [
              "\n",
              "  <div id=\"df-a3ba6535-76e0-4150-bf1c-bec2f311e4e4\" class=\"colab-df-container\">\n",
              "    <div>\n",
              "<style scoped>\n",
              "    .dataframe tbody tr th:only-of-type {\n",
              "        vertical-align: middle;\n",
              "    }\n",
              "\n",
              "    .dataframe tbody tr th {\n",
              "        vertical-align: top;\n",
              "    }\n",
              "\n",
              "    .dataframe thead th {\n",
              "        text-align: right;\n",
              "    }\n",
              "</style>\n",
              "<table border=\"1\" class=\"dataframe\">\n",
              "  <thead>\n",
              "    <tr style=\"text-align: right;\">\n",
              "      <th></th>\n",
              "      <th>Visitante_ID</th>\n",
              "      <th>Visualizações</th>\n",
              "      <th>Conversões</th>\n",
              "    </tr>\n",
              "  </thead>\n",
              "  <tbody>\n",
              "    <tr>\n",
              "      <th>count</th>\n",
              "      <td>2000.000000</td>\n",
              "      <td>2000.000000</td>\n",
              "      <td>2000.000000</td>\n",
              "    </tr>\n",
              "    <tr>\n",
              "      <th>mean</th>\n",
              "      <td>1000.500000</td>\n",
              "      <td>150.755500</td>\n",
              "      <td>0.115000</td>\n",
              "    </tr>\n",
              "    <tr>\n",
              "      <th>std</th>\n",
              "      <td>577.494589</td>\n",
              "      <td>28.809421</td>\n",
              "      <td>0.319102</td>\n",
              "    </tr>\n",
              "    <tr>\n",
              "      <th>min</th>\n",
              "      <td>1.000000</td>\n",
              "      <td>100.000000</td>\n",
              "      <td>0.000000</td>\n",
              "    </tr>\n",
              "    <tr>\n",
              "      <th>25%</th>\n",
              "      <td>500.750000</td>\n",
              "      <td>126.000000</td>\n",
              "      <td>0.000000</td>\n",
              "    </tr>\n",
              "    <tr>\n",
              "      <th>50%</th>\n",
              "      <td>1000.500000</td>\n",
              "      <td>151.000000</td>\n",
              "      <td>0.000000</td>\n",
              "    </tr>\n",
              "    <tr>\n",
              "      <th>75%</th>\n",
              "      <td>1500.250000</td>\n",
              "      <td>175.000000</td>\n",
              "      <td>0.000000</td>\n",
              "    </tr>\n",
              "    <tr>\n",
              "      <th>max</th>\n",
              "      <td>2000.000000</td>\n",
              "      <td>199.000000</td>\n",
              "      <td>1.000000</td>\n",
              "    </tr>\n",
              "  </tbody>\n",
              "</table>\n",
              "</div>\n",
              "    <div class=\"colab-df-buttons\">\n",
              "\n",
              "  <div class=\"colab-df-container\">\n",
              "    <button class=\"colab-df-convert\" onclick=\"convertToInteractive('df-a3ba6535-76e0-4150-bf1c-bec2f311e4e4')\"\n",
              "            title=\"Convert this dataframe to an interactive table.\"\n",
              "            style=\"display:none;\">\n",
              "\n",
              "  <svg xmlns=\"http://www.w3.org/2000/svg\" height=\"24px\" viewBox=\"0 -960 960 960\">\n",
              "    <path d=\"M120-120v-720h720v720H120Zm60-500h600v-160H180v160Zm220 220h160v-160H400v160Zm0 220h160v-160H400v160ZM180-400h160v-160H180v160Zm440 0h160v-160H620v160ZM180-180h160v-160H180v160Zm440 0h160v-160H620v160Z\"/>\n",
              "  </svg>\n",
              "    </button>\n",
              "\n",
              "  <style>\n",
              "    .colab-df-container {\n",
              "      display:flex;\n",
              "      gap: 12px;\n",
              "    }\n",
              "\n",
              "    .colab-df-convert {\n",
              "      background-color: #E8F0FE;\n",
              "      border: none;\n",
              "      border-radius: 50%;\n",
              "      cursor: pointer;\n",
              "      display: none;\n",
              "      fill: #1967D2;\n",
              "      height: 32px;\n",
              "      padding: 0 0 0 0;\n",
              "      width: 32px;\n",
              "    }\n",
              "\n",
              "    .colab-df-convert:hover {\n",
              "      background-color: #E2EBFA;\n",
              "      box-shadow: 0px 1px 2px rgba(60, 64, 67, 0.3), 0px 1px 3px 1px rgba(60, 64, 67, 0.15);\n",
              "      fill: #174EA6;\n",
              "    }\n",
              "\n",
              "    .colab-df-buttons div {\n",
              "      margin-bottom: 4px;\n",
              "    }\n",
              "\n",
              "    [theme=dark] .colab-df-convert {\n",
              "      background-color: #3B4455;\n",
              "      fill: #D2E3FC;\n",
              "    }\n",
              "\n",
              "    [theme=dark] .colab-df-convert:hover {\n",
              "      background-color: #434B5C;\n",
              "      box-shadow: 0px 1px 3px 1px rgba(0, 0, 0, 0.15);\n",
              "      filter: drop-shadow(0px 1px 2px rgba(0, 0, 0, 0.3));\n",
              "      fill: #FFFFFF;\n",
              "    }\n",
              "  </style>\n",
              "\n",
              "    <script>\n",
              "      const buttonEl =\n",
              "        document.querySelector('#df-a3ba6535-76e0-4150-bf1c-bec2f311e4e4 button.colab-df-convert');\n",
              "      buttonEl.style.display =\n",
              "        google.colab.kernel.accessAllowed ? 'block' : 'none';\n",
              "\n",
              "      async function convertToInteractive(key) {\n",
              "        const element = document.querySelector('#df-a3ba6535-76e0-4150-bf1c-bec2f311e4e4');\n",
              "        const dataTable =\n",
              "          await google.colab.kernel.invokeFunction('convertToInteractive',\n",
              "                                                    [key], {});\n",
              "        if (!dataTable) return;\n",
              "\n",
              "        const docLinkHtml = 'Like what you see? Visit the ' +\n",
              "          '<a target=\"_blank\" href=https://colab.research.google.com/notebooks/data_table.ipynb>data table notebook</a>'\n",
              "          + ' to learn more about interactive tables.';\n",
              "        element.innerHTML = '';\n",
              "        dataTable['output_type'] = 'display_data';\n",
              "        await google.colab.output.renderOutput(dataTable, element);\n",
              "        const docLink = document.createElement('div');\n",
              "        docLink.innerHTML = docLinkHtml;\n",
              "        element.appendChild(docLink);\n",
              "      }\n",
              "    </script>\n",
              "  </div>\n",
              "\n",
              "\n",
              "<div id=\"df-ee16694b-088b-4b46-93ff-dc1efa7eca50\">\n",
              "  <button class=\"colab-df-quickchart\" onclick=\"quickchart('df-ee16694b-088b-4b46-93ff-dc1efa7eca50')\"\n",
              "            title=\"Suggest charts\"\n",
              "            style=\"display:none;\">\n",
              "\n",
              "<svg xmlns=\"http://www.w3.org/2000/svg\" height=\"24px\"viewBox=\"0 0 24 24\"\n",
              "     width=\"24px\">\n",
              "    <g>\n",
              "        <path d=\"M19 3H5c-1.1 0-2 .9-2 2v14c0 1.1.9 2 2 2h14c1.1 0 2-.9 2-2V5c0-1.1-.9-2-2-2zM9 17H7v-7h2v7zm4 0h-2V7h2v10zm4 0h-2v-4h2v4z\"/>\n",
              "    </g>\n",
              "</svg>\n",
              "  </button>\n",
              "\n",
              "<style>\n",
              "  .colab-df-quickchart {\n",
              "      --bg-color: #E8F0FE;\n",
              "      --fill-color: #1967D2;\n",
              "      --hover-bg-color: #E2EBFA;\n",
              "      --hover-fill-color: #174EA6;\n",
              "      --disabled-fill-color: #AAA;\n",
              "      --disabled-bg-color: #DDD;\n",
              "  }\n",
              "\n",
              "  [theme=dark] .colab-df-quickchart {\n",
              "      --bg-color: #3B4455;\n",
              "      --fill-color: #D2E3FC;\n",
              "      --hover-bg-color: #434B5C;\n",
              "      --hover-fill-color: #FFFFFF;\n",
              "      --disabled-bg-color: #3B4455;\n",
              "      --disabled-fill-color: #666;\n",
              "  }\n",
              "\n",
              "  .colab-df-quickchart {\n",
              "    background-color: var(--bg-color);\n",
              "    border: none;\n",
              "    border-radius: 50%;\n",
              "    cursor: pointer;\n",
              "    display: none;\n",
              "    fill: var(--fill-color);\n",
              "    height: 32px;\n",
              "    padding: 0;\n",
              "    width: 32px;\n",
              "  }\n",
              "\n",
              "  .colab-df-quickchart:hover {\n",
              "    background-color: var(--hover-bg-color);\n",
              "    box-shadow: 0 1px 2px rgba(60, 64, 67, 0.3), 0 1px 3px 1px rgba(60, 64, 67, 0.15);\n",
              "    fill: var(--button-hover-fill-color);\n",
              "  }\n",
              "\n",
              "  .colab-df-quickchart-complete:disabled,\n",
              "  .colab-df-quickchart-complete:disabled:hover {\n",
              "    background-color: var(--disabled-bg-color);\n",
              "    fill: var(--disabled-fill-color);\n",
              "    box-shadow: none;\n",
              "  }\n",
              "\n",
              "  .colab-df-spinner {\n",
              "    border: 2px solid var(--fill-color);\n",
              "    border-color: transparent;\n",
              "    border-bottom-color: var(--fill-color);\n",
              "    animation:\n",
              "      spin 1s steps(1) infinite;\n",
              "  }\n",
              "\n",
              "  @keyframes spin {\n",
              "    0% {\n",
              "      border-color: transparent;\n",
              "      border-bottom-color: var(--fill-color);\n",
              "      border-left-color: var(--fill-color);\n",
              "    }\n",
              "    20% {\n",
              "      border-color: transparent;\n",
              "      border-left-color: var(--fill-color);\n",
              "      border-top-color: var(--fill-color);\n",
              "    }\n",
              "    30% {\n",
              "      border-color: transparent;\n",
              "      border-left-color: var(--fill-color);\n",
              "      border-top-color: var(--fill-color);\n",
              "      border-right-color: var(--fill-color);\n",
              "    }\n",
              "    40% {\n",
              "      border-color: transparent;\n",
              "      border-right-color: var(--fill-color);\n",
              "      border-top-color: var(--fill-color);\n",
              "    }\n",
              "    60% {\n",
              "      border-color: transparent;\n",
              "      border-right-color: var(--fill-color);\n",
              "    }\n",
              "    80% {\n",
              "      border-color: transparent;\n",
              "      border-right-color: var(--fill-color);\n",
              "      border-bottom-color: var(--fill-color);\n",
              "    }\n",
              "    90% {\n",
              "      border-color: transparent;\n",
              "      border-bottom-color: var(--fill-color);\n",
              "    }\n",
              "  }\n",
              "</style>\n",
              "\n",
              "  <script>\n",
              "    async function quickchart(key) {\n",
              "      const quickchartButtonEl =\n",
              "        document.querySelector('#' + key + ' button');\n",
              "      quickchartButtonEl.disabled = true;  // To prevent multiple clicks.\n",
              "      quickchartButtonEl.classList.add('colab-df-spinner');\n",
              "      try {\n",
              "        const charts = await google.colab.kernel.invokeFunction(\n",
              "            'suggestCharts', [key], {});\n",
              "      } catch (error) {\n",
              "        console.error('Error during call to suggestCharts:', error);\n",
              "      }\n",
              "      quickchartButtonEl.classList.remove('colab-df-spinner');\n",
              "      quickchartButtonEl.classList.add('colab-df-quickchart-complete');\n",
              "    }\n",
              "    (() => {\n",
              "      let quickchartButtonEl =\n",
              "        document.querySelector('#df-ee16694b-088b-4b46-93ff-dc1efa7eca50 button');\n",
              "      quickchartButtonEl.style.display =\n",
              "        google.colab.kernel.accessAllowed ? 'block' : 'none';\n",
              "    })();\n",
              "  </script>\n",
              "</div>\n",
              "\n",
              "    </div>\n",
              "  </div>\n"
            ],
            "application/vnd.google.colaboratory.intrinsic+json": {
              "type": "dataframe",
              "summary": "{\n  \"name\": \"df\",\n  \"rows\": 8,\n  \"fields\": [\n    {\n      \"column\": \"Visitante_ID\",\n      \"properties\": {\n        \"dtype\": \"number\",\n        \"std\": 720.5049024934813,\n        \"min\": 1.0,\n        \"max\": 2000.0,\n        \"num_unique_values\": 6,\n        \"samples\": [\n          2000.0,\n          1000.5,\n          1500.25\n        ],\n        \"semantic_type\": \"\",\n        \"description\": \"\"\n      }\n    },\n    {\n      \"column\": \"Visualiza\\u00e7\\u00f5es\",\n      \"properties\": {\n        \"dtype\": \"number\",\n        \"std\": 662.132254733942,\n        \"min\": 28.809420527069836,\n        \"max\": 2000.0,\n        \"num_unique_values\": 8,\n        \"samples\": [\n          150.7555,\n          151.0,\n          2000.0\n        ],\n        \"semantic_type\": \"\",\n        \"description\": \"\"\n      }\n    },\n    {\n      \"column\": \"Convers\\u00f5es\",\n      \"properties\": {\n        \"dtype\": \"number\",\n        \"std\": 707.0344310777264,\n        \"min\": 0.0,\n        \"max\": 2000.0,\n        \"num_unique_values\": 5,\n        \"samples\": [\n          0.115,\n          1.0,\n          0.31910172822546456\n        ],\n        \"semantic_type\": \"\",\n        \"description\": \"\"\n      }\n    }\n  ]\n}"
            }
          },
          "metadata": {},
          "execution_count": 21
        }
      ]
    },
    {
      "cell_type": "markdown",
      "source": [
        "1. Qual dos cenários tem a maior taxa de conversão?"
      ],
      "metadata": {
        "id": "0NTJpKP8mzYo"
      }
    },
    {
      "cell_type": "code",
      "execution_count": null,
      "metadata": {
        "id": "v4_001UUc6Or",
        "colab": {
          "base_uri": "https://localhost:8080/"
        },
        "outputId": "7f1f4d36-4d08-4efe-fff1-efaff34462e1"
      },
      "outputs": [
        {
          "output_type": "stream",
          "name": "stdout",
          "text": [
            "A taxa de conversão B: 12.5 % é maior que a taxa de conversão A: 10.5 %\n"
          ]
        }
      ],
      "source": [
        "# Sum de conversões do A e do B\n",
        "df_conversao_A = df[(df['Versão_Página'] == 'A')]['Conversões'].sum()\n",
        "df_conversao_B = df[(df['Versão_Página'] == 'B')]['Conversões'].sum()\n",
        "\n",
        "# Contagem de visualizações de A e B\n",
        "df_visualizacao_A = len(df[df['Versão_Página'] == 'A']['Visualizações'])\n",
        "df_visualizacao_B = len(df[df['Versão_Página'] == 'B']['Visualizações'])\n",
        "\n",
        "# Calculando a taxa de conversão\n",
        "taxa_conversao_A = (df_conversao_A / df_visualizacao_A) * 100\n",
        "taxa_conversao_B = (df_conversao_B / df_visualizacao_B) * 100\n",
        "\n",
        "if taxa_conversao_A > taxa_conversao_B:\n",
        "  print('A taxa de conversão A:', taxa_conversao_A.round(2), '% é maior que a taxa de conversão B:', taxa_conversao_B.round(2), '%')\n",
        "else:\n",
        "  print('A taxa de conversão B:', taxa_conversao_B.round(2), '% é maior que a taxa de conversão A:', taxa_conversao_A.round(2), '%')\n"
      ]
    },
    {
      "cell_type": "markdown",
      "source": [
        "2. Calcule qual o tamanho da amostra necessária para o desenvolvimento de um teste A/B, seguindo os seguintes critérios:\n",
        "\n",
        "\n",
        "a. O cenário A, da base, como o inicial, que funciona hoje.\n",
        "\n",
        "b. Considere 95% de confiança de que o efeito na conversão não foi\n",
        "aleatório com um nível de significância de 5% (alpha = 0,05).\n",
        "\n",
        "c. Também considere 80% de certeza conseguir capturar o efeito\n",
        "da nova abordagem.\n",
        "\n",
        "d. O aumento para 10% de conversão."
      ],
      "metadata": {
        "id": "ti26Bg0nm4Ja"
      }
    },
    {
      "cell_type": "code",
      "source": [
        "# Parametros\n",
        "taxa_ideal = 0.10\n",
        "beta = 0.8\n",
        "alpha = 0.05\n",
        "\n",
        "# Taxa de conversão no cenário A (cenário atual)\n",
        "p1 = taxa_conversao_A / 100\n",
        "# Taxa de conversão esperada no cenário B (com o aumento)\n",
        "delta = p1 - taxa_ideal\n",
        "\n",
        "# Valor crítico da distribuição normal padrão para um nível de significância de alpha/2\n",
        "z_alpha = 1.96\n",
        "\n",
        "# Valor crítico da distribuição normal padrão para uma potência de 1 - beta\n",
        "z_beta =  norm.ppf(1 - beta)\n",
        "\n",
        "variancia_amostral_A = df[df['Versão_Página'] == 'A']['Visitante_ID'].var()\n",
        "\n",
        "# Calculando o tamanho da amostra necessário\n",
        "n = (2 * (variancia_amostral_A) * (z_alpha + z_beta)**2) / delta ** 2\n",
        "\n",
        "print(\"Tamanho da amostra necessário em cada grupo:\", n.round(2))"
      ],
      "metadata": {
        "id": "fz3eTpwIm9KJ",
        "colab": {
          "base_uri": "https://localhost:8080/"
        },
        "outputId": "58679e44-011f-4cee-d756-b70e607c4721"
      },
      "execution_count": null,
      "outputs": [
        {
          "output_type": "stream",
          "name": "stdout",
          "text": [
            "Tamanho da amostra necessário em cada grupo: 8346812241.73\n"
          ]
        }
      ]
    },
    {
      "cell_type": "markdown",
      "source": [
        "### Verifique a base `pacientes.csv`, os dados são fictícios. A sintetiza uma base de dados de um hospital que trata de pacientes com problemas cardíacos. Considere a base como a população, portanto as estatísticas da população são conhecidas. Responda as perguntas abaixo:"
      ],
      "metadata": {
        "id": "WldQ-yF5nH--"
      }
    },
    {
      "cell_type": "code",
      "source": [
        "df_pacientes = pd.read_csv('pacientes.csv')\n",
        "df_pacientes.head()"
      ],
      "metadata": {
        "colab": {
          "base_uri": "https://localhost:8080/",
          "height": 206
        },
        "id": "IY2TFGwuLugF",
        "outputId": "5c44de6d-820c-4149-8f41-475fdafc09b0"
      },
      "execution_count": null,
      "outputs": [
        {
          "output_type": "execute_result",
          "data": {
            "text/plain": [
              "   Unnamed: 0  Pressao_Arterial  Idade  Genero  Etnia  Estado_Saude  \\\n",
              "0           0        142.755809     31       1      1             1   \n",
              "1           1        161.878468     35       1      1             0   \n",
              "2           2        161.508259     39       0      3             1   \n",
              "3           3        144.979408     43       1      3             1   \n",
              "4           4        162.502954     55       0      2             1   \n",
              "\n",
              "  Nome_Genero      Nome_Etnia                  Nome_Estado_Saude  \n",
              "0    Feminino  Afro-americano  Com condições de saúde adicionais  \n",
              "1    Feminino  Afro-americano                           Saudável  \n",
              "2   Masculino        Asiático  Com condições de saúde adicionais  \n",
              "3    Feminino        Asiático  Com condições de saúde adicionais  \n",
              "4   Masculino       Hispânico  Com condições de saúde adicionais  "
            ],
            "text/html": [
              "\n",
              "  <div id=\"df-9e79188a-a611-4887-a2ea-7d05555a56e4\" class=\"colab-df-container\">\n",
              "    <div>\n",
              "<style scoped>\n",
              "    .dataframe tbody tr th:only-of-type {\n",
              "        vertical-align: middle;\n",
              "    }\n",
              "\n",
              "    .dataframe tbody tr th {\n",
              "        vertical-align: top;\n",
              "    }\n",
              "\n",
              "    .dataframe thead th {\n",
              "        text-align: right;\n",
              "    }\n",
              "</style>\n",
              "<table border=\"1\" class=\"dataframe\">\n",
              "  <thead>\n",
              "    <tr style=\"text-align: right;\">\n",
              "      <th></th>\n",
              "      <th>Unnamed: 0</th>\n",
              "      <th>Pressao_Arterial</th>\n",
              "      <th>Idade</th>\n",
              "      <th>Genero</th>\n",
              "      <th>Etnia</th>\n",
              "      <th>Estado_Saude</th>\n",
              "      <th>Nome_Genero</th>\n",
              "      <th>Nome_Etnia</th>\n",
              "      <th>Nome_Estado_Saude</th>\n",
              "    </tr>\n",
              "  </thead>\n",
              "  <tbody>\n",
              "    <tr>\n",
              "      <th>0</th>\n",
              "      <td>0</td>\n",
              "      <td>142.755809</td>\n",
              "      <td>31</td>\n",
              "      <td>1</td>\n",
              "      <td>1</td>\n",
              "      <td>1</td>\n",
              "      <td>Feminino</td>\n",
              "      <td>Afro-americano</td>\n",
              "      <td>Com condições de saúde adicionais</td>\n",
              "    </tr>\n",
              "    <tr>\n",
              "      <th>1</th>\n",
              "      <td>1</td>\n",
              "      <td>161.878468</td>\n",
              "      <td>35</td>\n",
              "      <td>1</td>\n",
              "      <td>1</td>\n",
              "      <td>0</td>\n",
              "      <td>Feminino</td>\n",
              "      <td>Afro-americano</td>\n",
              "      <td>Saudável</td>\n",
              "    </tr>\n",
              "    <tr>\n",
              "      <th>2</th>\n",
              "      <td>2</td>\n",
              "      <td>161.508259</td>\n",
              "      <td>39</td>\n",
              "      <td>0</td>\n",
              "      <td>3</td>\n",
              "      <td>1</td>\n",
              "      <td>Masculino</td>\n",
              "      <td>Asiático</td>\n",
              "      <td>Com condições de saúde adicionais</td>\n",
              "    </tr>\n",
              "    <tr>\n",
              "      <th>3</th>\n",
              "      <td>3</td>\n",
              "      <td>144.979408</td>\n",
              "      <td>43</td>\n",
              "      <td>1</td>\n",
              "      <td>3</td>\n",
              "      <td>1</td>\n",
              "      <td>Feminino</td>\n",
              "      <td>Asiático</td>\n",
              "      <td>Com condições de saúde adicionais</td>\n",
              "    </tr>\n",
              "    <tr>\n",
              "      <th>4</th>\n",
              "      <td>4</td>\n",
              "      <td>162.502954</td>\n",
              "      <td>55</td>\n",
              "      <td>0</td>\n",
              "      <td>2</td>\n",
              "      <td>1</td>\n",
              "      <td>Masculino</td>\n",
              "      <td>Hispânico</td>\n",
              "      <td>Com condições de saúde adicionais</td>\n",
              "    </tr>\n",
              "  </tbody>\n",
              "</table>\n",
              "</div>\n",
              "    <div class=\"colab-df-buttons\">\n",
              "\n",
              "  <div class=\"colab-df-container\">\n",
              "    <button class=\"colab-df-convert\" onclick=\"convertToInteractive('df-9e79188a-a611-4887-a2ea-7d05555a56e4')\"\n",
              "            title=\"Convert this dataframe to an interactive table.\"\n",
              "            style=\"display:none;\">\n",
              "\n",
              "  <svg xmlns=\"http://www.w3.org/2000/svg\" height=\"24px\" viewBox=\"0 -960 960 960\">\n",
              "    <path d=\"M120-120v-720h720v720H120Zm60-500h600v-160H180v160Zm220 220h160v-160H400v160Zm0 220h160v-160H400v160ZM180-400h160v-160H180v160Zm440 0h160v-160H620v160ZM180-180h160v-160H180v160Zm440 0h160v-160H620v160Z\"/>\n",
              "  </svg>\n",
              "    </button>\n",
              "\n",
              "  <style>\n",
              "    .colab-df-container {\n",
              "      display:flex;\n",
              "      gap: 12px;\n",
              "    }\n",
              "\n",
              "    .colab-df-convert {\n",
              "      background-color: #E8F0FE;\n",
              "      border: none;\n",
              "      border-radius: 50%;\n",
              "      cursor: pointer;\n",
              "      display: none;\n",
              "      fill: #1967D2;\n",
              "      height: 32px;\n",
              "      padding: 0 0 0 0;\n",
              "      width: 32px;\n",
              "    }\n",
              "\n",
              "    .colab-df-convert:hover {\n",
              "      background-color: #E2EBFA;\n",
              "      box-shadow: 0px 1px 2px rgba(60, 64, 67, 0.3), 0px 1px 3px 1px rgba(60, 64, 67, 0.15);\n",
              "      fill: #174EA6;\n",
              "    }\n",
              "\n",
              "    .colab-df-buttons div {\n",
              "      margin-bottom: 4px;\n",
              "    }\n",
              "\n",
              "    [theme=dark] .colab-df-convert {\n",
              "      background-color: #3B4455;\n",
              "      fill: #D2E3FC;\n",
              "    }\n",
              "\n",
              "    [theme=dark] .colab-df-convert:hover {\n",
              "      background-color: #434B5C;\n",
              "      box-shadow: 0px 1px 3px 1px rgba(0, 0, 0, 0.15);\n",
              "      filter: drop-shadow(0px 1px 2px rgba(0, 0, 0, 0.3));\n",
              "      fill: #FFFFFF;\n",
              "    }\n",
              "  </style>\n",
              "\n",
              "    <script>\n",
              "      const buttonEl =\n",
              "        document.querySelector('#df-9e79188a-a611-4887-a2ea-7d05555a56e4 button.colab-df-convert');\n",
              "      buttonEl.style.display =\n",
              "        google.colab.kernel.accessAllowed ? 'block' : 'none';\n",
              "\n",
              "      async function convertToInteractive(key) {\n",
              "        const element = document.querySelector('#df-9e79188a-a611-4887-a2ea-7d05555a56e4');\n",
              "        const dataTable =\n",
              "          await google.colab.kernel.invokeFunction('convertToInteractive',\n",
              "                                                    [key], {});\n",
              "        if (!dataTable) return;\n",
              "\n",
              "        const docLinkHtml = 'Like what you see? Visit the ' +\n",
              "          '<a target=\"_blank\" href=https://colab.research.google.com/notebooks/data_table.ipynb>data table notebook</a>'\n",
              "          + ' to learn more about interactive tables.';\n",
              "        element.innerHTML = '';\n",
              "        dataTable['output_type'] = 'display_data';\n",
              "        await google.colab.output.renderOutput(dataTable, element);\n",
              "        const docLink = document.createElement('div');\n",
              "        docLink.innerHTML = docLinkHtml;\n",
              "        element.appendChild(docLink);\n",
              "      }\n",
              "    </script>\n",
              "  </div>\n",
              "\n",
              "\n",
              "<div id=\"df-11f76525-6862-46a3-9533-814d75c579a0\">\n",
              "  <button class=\"colab-df-quickchart\" onclick=\"quickchart('df-11f76525-6862-46a3-9533-814d75c579a0')\"\n",
              "            title=\"Suggest charts\"\n",
              "            style=\"display:none;\">\n",
              "\n",
              "<svg xmlns=\"http://www.w3.org/2000/svg\" height=\"24px\"viewBox=\"0 0 24 24\"\n",
              "     width=\"24px\">\n",
              "    <g>\n",
              "        <path d=\"M19 3H5c-1.1 0-2 .9-2 2v14c0 1.1.9 2 2 2h14c1.1 0 2-.9 2-2V5c0-1.1-.9-2-2-2zM9 17H7v-7h2v7zm4 0h-2V7h2v10zm4 0h-2v-4h2v4z\"/>\n",
              "    </g>\n",
              "</svg>\n",
              "  </button>\n",
              "\n",
              "<style>\n",
              "  .colab-df-quickchart {\n",
              "      --bg-color: #E8F0FE;\n",
              "      --fill-color: #1967D2;\n",
              "      --hover-bg-color: #E2EBFA;\n",
              "      --hover-fill-color: #174EA6;\n",
              "      --disabled-fill-color: #AAA;\n",
              "      --disabled-bg-color: #DDD;\n",
              "  }\n",
              "\n",
              "  [theme=dark] .colab-df-quickchart {\n",
              "      --bg-color: #3B4455;\n",
              "      --fill-color: #D2E3FC;\n",
              "      --hover-bg-color: #434B5C;\n",
              "      --hover-fill-color: #FFFFFF;\n",
              "      --disabled-bg-color: #3B4455;\n",
              "      --disabled-fill-color: #666;\n",
              "  }\n",
              "\n",
              "  .colab-df-quickchart {\n",
              "    background-color: var(--bg-color);\n",
              "    border: none;\n",
              "    border-radius: 50%;\n",
              "    cursor: pointer;\n",
              "    display: none;\n",
              "    fill: var(--fill-color);\n",
              "    height: 32px;\n",
              "    padding: 0;\n",
              "    width: 32px;\n",
              "  }\n",
              "\n",
              "  .colab-df-quickchart:hover {\n",
              "    background-color: var(--hover-bg-color);\n",
              "    box-shadow: 0 1px 2px rgba(60, 64, 67, 0.3), 0 1px 3px 1px rgba(60, 64, 67, 0.15);\n",
              "    fill: var(--button-hover-fill-color);\n",
              "  }\n",
              "\n",
              "  .colab-df-quickchart-complete:disabled,\n",
              "  .colab-df-quickchart-complete:disabled:hover {\n",
              "    background-color: var(--disabled-bg-color);\n",
              "    fill: var(--disabled-fill-color);\n",
              "    box-shadow: none;\n",
              "  }\n",
              "\n",
              "  .colab-df-spinner {\n",
              "    border: 2px solid var(--fill-color);\n",
              "    border-color: transparent;\n",
              "    border-bottom-color: var(--fill-color);\n",
              "    animation:\n",
              "      spin 1s steps(1) infinite;\n",
              "  }\n",
              "\n",
              "  @keyframes spin {\n",
              "    0% {\n",
              "      border-color: transparent;\n",
              "      border-bottom-color: var(--fill-color);\n",
              "      border-left-color: var(--fill-color);\n",
              "    }\n",
              "    20% {\n",
              "      border-color: transparent;\n",
              "      border-left-color: var(--fill-color);\n",
              "      border-top-color: var(--fill-color);\n",
              "    }\n",
              "    30% {\n",
              "      border-color: transparent;\n",
              "      border-left-color: var(--fill-color);\n",
              "      border-top-color: var(--fill-color);\n",
              "      border-right-color: var(--fill-color);\n",
              "    }\n",
              "    40% {\n",
              "      border-color: transparent;\n",
              "      border-right-color: var(--fill-color);\n",
              "      border-top-color: var(--fill-color);\n",
              "    }\n",
              "    60% {\n",
              "      border-color: transparent;\n",
              "      border-right-color: var(--fill-color);\n",
              "    }\n",
              "    80% {\n",
              "      border-color: transparent;\n",
              "      border-right-color: var(--fill-color);\n",
              "      border-bottom-color: var(--fill-color);\n",
              "    }\n",
              "    90% {\n",
              "      border-color: transparent;\n",
              "      border-bottom-color: var(--fill-color);\n",
              "    }\n",
              "  }\n",
              "</style>\n",
              "\n",
              "  <script>\n",
              "    async function quickchart(key) {\n",
              "      const quickchartButtonEl =\n",
              "        document.querySelector('#' + key + ' button');\n",
              "      quickchartButtonEl.disabled = true;  // To prevent multiple clicks.\n",
              "      quickchartButtonEl.classList.add('colab-df-spinner');\n",
              "      try {\n",
              "        const charts = await google.colab.kernel.invokeFunction(\n",
              "            'suggestCharts', [key], {});\n",
              "      } catch (error) {\n",
              "        console.error('Error during call to suggestCharts:', error);\n",
              "      }\n",
              "      quickchartButtonEl.classList.remove('colab-df-spinner');\n",
              "      quickchartButtonEl.classList.add('colab-df-quickchart-complete');\n",
              "    }\n",
              "    (() => {\n",
              "      let quickchartButtonEl =\n",
              "        document.querySelector('#df-11f76525-6862-46a3-9533-814d75c579a0 button');\n",
              "      quickchartButtonEl.style.display =\n",
              "        google.colab.kernel.accessAllowed ? 'block' : 'none';\n",
              "    })();\n",
              "  </script>\n",
              "</div>\n",
              "\n",
              "    </div>\n",
              "  </div>\n"
            ],
            "application/vnd.google.colaboratory.intrinsic+json": {
              "type": "dataframe",
              "variable_name": "df_pacientes",
              "summary": "{\n  \"name\": \"df_pacientes\",\n  \"rows\": 1000,\n  \"fields\": [\n    {\n      \"column\": \"Unnamed: 0\",\n      \"properties\": {\n        \"dtype\": \"number\",\n        \"std\": 288,\n        \"min\": 0,\n        \"max\": 999,\n        \"num_unique_values\": 1000,\n        \"samples\": [\n          521,\n          737,\n          740\n        ],\n        \"semantic_type\": \"\",\n        \"description\": \"\"\n      }\n    },\n    {\n      \"column\": \"Pressao_Arterial\",\n      \"properties\": {\n        \"dtype\": \"number\",\n        \"std\": 9.943612581359622,\n        \"min\": 112.92982068924913,\n        \"max\": 181.80313088710068,\n        \"num_unique_values\": 1000,\n        \"samples\": [\n          152.04119412297098,\n          147.54391492523183,\n          168.8184130751253\n        ],\n        \"semantic_type\": \"\",\n        \"description\": \"\"\n      }\n    },\n    {\n      \"column\": \"Idade\",\n      \"properties\": {\n        \"dtype\": \"number\",\n        \"std\": 11,\n        \"min\": 30,\n        \"max\": 70,\n        \"num_unique_values\": 41,\n        \"samples\": [\n          30,\n          65,\n          57\n        ],\n        \"semantic_type\": \"\",\n        \"description\": \"\"\n      }\n    },\n    {\n      \"column\": \"Genero\",\n      \"properties\": {\n        \"dtype\": \"number\",\n        \"std\": 0,\n        \"min\": 0,\n        \"max\": 1,\n        \"num_unique_values\": 2,\n        \"samples\": [\n          0,\n          1\n        ],\n        \"semantic_type\": \"\",\n        \"description\": \"\"\n      }\n    },\n    {\n      \"column\": \"Etnia\",\n      \"properties\": {\n        \"dtype\": \"number\",\n        \"std\": 1,\n        \"min\": 0,\n        \"max\": 3,\n        \"num_unique_values\": 4,\n        \"samples\": [\n          3,\n          0\n        ],\n        \"semantic_type\": \"\",\n        \"description\": \"\"\n      }\n    },\n    {\n      \"column\": \"Estado_Saude\",\n      \"properties\": {\n        \"dtype\": \"number\",\n        \"std\": 0,\n        \"min\": 0,\n        \"max\": 1,\n        \"num_unique_values\": 2,\n        \"samples\": [\n          0,\n          1\n        ],\n        \"semantic_type\": \"\",\n        \"description\": \"\"\n      }\n    },\n    {\n      \"column\": \"Nome_Genero\",\n      \"properties\": {\n        \"dtype\": \"category\",\n        \"num_unique_values\": 2,\n        \"samples\": [\n          \"Masculino\",\n          \"Feminino\"\n        ],\n        \"semantic_type\": \"\",\n        \"description\": \"\"\n      }\n    },\n    {\n      \"column\": \"Nome_Etnia\",\n      \"properties\": {\n        \"dtype\": \"category\",\n        \"num_unique_values\": 4,\n        \"samples\": [\n          \"Asi\\u00e1tico\",\n          \"Caucasiano\"\n        ],\n        \"semantic_type\": \"\",\n        \"description\": \"\"\n      }\n    },\n    {\n      \"column\": \"Nome_Estado_Saude\",\n      \"properties\": {\n        \"dtype\": \"category\",\n        \"num_unique_values\": 2,\n        \"samples\": [\n          \"Saud\\u00e1vel\",\n          \"Com condi\\u00e7\\u00f5es de sa\\u00fade adicionais\"\n        ],\n        \"semantic_type\": \"\",\n        \"description\": \"\"\n      }\n    }\n  ]\n}"
            }
          },
          "metadata": {},
          "execution_count": 44
        }
      ]
    },
    {
      "cell_type": "code",
      "source": [
        "df_pacientes.shape"
      ],
      "metadata": {
        "colab": {
          "base_uri": "https://localhost:8080/"
        },
        "id": "nOCb36r_MB7w",
        "outputId": "b704d7cd-44fe-461d-8d0b-2ebdb659484d"
      },
      "execution_count": null,
      "outputs": [
        {
          "output_type": "execute_result",
          "data": {
            "text/plain": [
              "(1000, 9)"
            ]
          },
          "metadata": {},
          "execution_count": 47
        }
      ]
    },
    {
      "cell_type": "markdown",
      "source": [
        "3. Considerando uma amostra de 45 números que representam o index do dataframe, `índices= ([909, 751, 402, 400, 726, 39, 184, 269, 255, 769, 209, 715, 677, 381, 793, 697, 89, 280, 232, 756, 358, 36, 439, 768, 967, 699, 473, 222, 89, 639, 883, 558, 757, 84, 907, 895, 217, 224, 311, 348, 146, 505, 273, 957, 362])`. Considerando essa amostra é possível dizer que a idade média das pessoas com problemas cardíacos é maior que 50 anos? Nível de significância igual a 5%.\n"
      ],
      "metadata": {
        "id": "KXYEP4nznkCU"
      }
    },
    {
      "cell_type": "code",
      "source": [
        "# Hipótese 0: Idade média das pessoas com problemas cardiacos é maior que 50 anos\n",
        "# Hipótese 1: Idade média das pessoas com problemas cardiacos é menor ou igual a 50 anos\n",
        "\n",
        "# Selecionando a coluna idade do dataframe\n",
        "df_idade = df_pacientes['Idade']\n",
        "\n",
        "# Indices indicados pelo exercicio\n",
        "df_indice = [909, 751, 402, 400, 726, 39, 184, 269, 255, 769, 209, 715, 677, 381, 793, 697, 89, 280, 232, 756, 358, 36, 439, 768, 967, 699, 473, 222, 89, 639, 883, 558, 757, 84, 907, 895, 217, 224, 311, 348, 146, 505, 273, 957, 362]\n",
        "\n",
        "# Selecionando as idades conforme o indice\n",
        "amostra = df_idade.loc[df_indice]\n",
        "\n",
        "# Valor alpha oferecido pelo exercicio\n",
        "alpha = 0.05\n",
        "\n",
        "# Calculando p_valor\n",
        "t_stat, p_valor = ttest_1samp(amostra, 50)\n",
        "\n",
        "# Comparando para descobrir o resultado da hipótese\n",
        "if p_valor < alpha:\n",
        "  print('Rejeitamos a hipótese nula.')\n",
        "else:\n",
        "  print('Não rejeitamos a hipótese nula, é possível dizer que a idade média das pessoas com problemas cardíacos é maior que 50 anos.')"
      ],
      "metadata": {
        "id": "ZHpVvf2qnjZ9",
        "colab": {
          "base_uri": "https://localhost:8080/"
        },
        "outputId": "519c82b3-37ef-47b7-e743-c56dc1ad0b6e"
      },
      "execution_count": null,
      "outputs": [
        {
          "output_type": "stream",
          "name": "stdout",
          "text": [
            "Não rejeitamos a hipótese nula, é possível dizer que a idade média das pessoas com problemas cardíacos é maior que 50 anos.\n"
          ]
        }
      ]
    },
    {
      "cell_type": "markdown",
      "source": [
        "4. Queremos entender que tipo de amostra estamos lidando se dividirmos\n",
        "os conjuntos em 2, sendo um com pessoas que têm condições de\n",
        "saúde adicionais e o outro com pessoas saudáveis. Seria dependente\n",
        "ou independente?"
      ],
      "metadata": {
        "id": "D-IvtBdMn61I"
      }
    },
    {
      "cell_type": "markdown",
      "source": [
        "Não existe relação direta entre os dois grupos, a única coisa que classifica os individuos são esses dois conjuntos, logo acredita-se que por isso é independente."
      ],
      "metadata": {
        "id": "IHQ7LYdPTfdA"
      }
    },
    {
      "cell_type": "code",
      "source": [
        "# Tamanho de cada grupo\n",
        "df_grupos = df_pacientes['Nome_Estado_Saude'].value_counts()\n",
        "df_grupos"
      ],
      "metadata": {
        "id": "ucXKYJi8oPFy",
        "colab": {
          "base_uri": "https://localhost:8080/"
        },
        "outputId": "7cbcd717-3d1c-42ad-ac88-bc84ba3842ea"
      },
      "execution_count": null,
      "outputs": [
        {
          "output_type": "execute_result",
          "data": {
            "text/plain": [
              "Nome_Estado_Saude\n",
              "Com condições de saúde adicionais    510\n",
              "Saudável                             490\n",
              "Name: count, dtype: int64"
            ]
          },
          "metadata": {},
          "execution_count": 35
        }
      ]
    },
    {
      "cell_type": "markdown",
      "source": [
        "5. Agora considere o um conjunto de pessoas aleatória que representam\n",
        "o index do dataframe, `índices = ([690, 894, 67, 201, 364, 19, 60, 319,\n",
        "588, 643, 855, 623, 530, 174, 105, 693, 6, 462, 973, 607, 811, 346, 354, 966, 943, 372])`, podemos dizer que a pressão arterial média para\n",
        "pacientes com condições de saúde adicionais é igual à pressão arterial\n",
        "média para pacientes sem condições adicionais de saúde? Considere o\n",
        "nível de significância a 6%."
      ],
      "metadata": {
        "id": "DCVptiFBn9oN"
      }
    },
    {
      "cell_type": "code",
      "source": [
        "# Hipótese 0: p_arterial_adicional = p_arterial_sem_adicional\n",
        "# Hipótese 1: p_arterial_adicional <> p_arterial_sem_adicional\n",
        "\n",
        "# Selecionando a coluna Pressão Arterial do dataframe\n",
        "df_pressao = df_pacientes['Pressao_Arterial']\n",
        "\n",
        "# Indices indicados pelo exercicio\n",
        "df_indices = [690, 894, 67, 201, 364, 19, 60, 319, 588, 643, 855, 623, 530, 174, 105, 693, 6, 462, 973, 607, 811, 346, 354, 966, 943, 372]\n",
        "\n",
        "# Selecionando a pressão arterial conforme o indice\n",
        "amostra = df_pressao.loc[df_indices]\n",
        "\n",
        "# Selecionar pessoas saudaveis\n",
        "saude = amostra.loc[df_pacientes['Nome_Estado_Saude'] == 'Saudável']\n",
        "\n",
        "# Selecionar pessoas Com condições de saúde adicionais\n",
        "saude_adicional = amostra.loc[df_pacientes['Nome_Estado_Saude'] == 'Com condições de saúde adicionais']\n",
        "\n",
        "# Valor alpha oferecido pelo exercicio\n",
        "alpha = 0.06\n",
        "\n",
        "# Calculando p_valor\n",
        "t_stat, p_valor = ttest_ind(saude, saude_adicional)\n",
        "\n",
        "# Comparando para descobrir o resultado da hipótese\n",
        "if p_valor < alpha:\n",
        "  print('Rejeitamos a hipótese nula')\n",
        "else:\n",
        "  print('Não rejeitamos a hipótese nula, a pressão arterial média para pacientes com condições de saúde adicionais é igual\\na pressão arterial média para pacientes sem condições adicionais')"
      ],
      "metadata": {
        "id": "wCReKU2BoOZb",
        "colab": {
          "base_uri": "https://localhost:8080/"
        },
        "outputId": "4e5df88c-66bb-4bd5-b328-77cdad5b7bf4"
      },
      "execution_count": null,
      "outputs": [
        {
          "output_type": "stream",
          "name": "stdout",
          "text": [
            "Não rejeitamos a hipótese nula, a pressão arterial média para pacientes com condições de saúde adicionais é igual\n",
            "a pressão arterial média para pacientes sem condições adicionais\n"
          ]
        }
      ]
    },
    {
      "cell_type": "markdown",
      "source": [
        "6. Existe uma diferença significativa na pressão arterial média entre\n",
        "diferentes grupos étnicos nesta população? (Teste ANOVA, alpha é 5%)\n",
        "\n",
        "***a. Hipótese Nula (H0):*** A pressão arterial média é a mesma em todos\n",
        "os grupos étnicos.\n",
        "\n",
        "***b. Hipótese Alternativa (H1):*** Há uma diferença significativa na\n",
        "pressão arterial média entre pelo menos dois grupos étnicos\n",
        "nesta população."
      ],
      "metadata": {
        "id": "runZR1mhooGI"
      }
    },
    {
      "cell_type": "code",
      "source": [
        "# Selecionando os grupos étnicos e suas pressões arteriais\n",
        "grupo_1 = df_pacientes[df_pacientes['Nome_Etnia'] == 'Afro-americano']['Pressao_Arterial']\n",
        "grupo_2 = df_pacientes[df_pacientes['Nome_Etnia'] == 'Asiático']['Pressao_Arterial']\n",
        "grupo_3 = df_pacientes[df_pacientes['Nome_Etnia'] == 'Hispânico']['Pressao_Arterial']\n",
        "grupo_4 = df_pacientes[df_pacientes['Nome_Etnia'] == 'Caucasiano']['Pressao_Arterial']\n",
        "\n",
        "# Teste ANOVA\n",
        "estatistica_anova, p_valor_anova = f_oneway(grupo_1, grupo_2, grupo_3, grupo_4)\n",
        "\n",
        "# Valor alpha oferecido pelo exercicio\n",
        "alpha = 0.05\n",
        "\n",
        "# Comparando para descobrir o resultado da hipótese\n",
        "if p_valor < alpha:\n",
        "  print('Rejeitamos a hipótese nula')\n",
        "else:\n",
        "  print('Não rejeitamos a hipótese nula, a pressão arterial média é a mesma em todos os grupos étnicos.')"
      ],
      "metadata": {
        "id": "qOPtXxwPoo__",
        "colab": {
          "base_uri": "https://localhost:8080/"
        },
        "outputId": "78bcd6e1-c553-47f6-82e4-345e12432441"
      },
      "execution_count": null,
      "outputs": [
        {
          "output_type": "stream",
          "name": "stdout",
          "text": [
            "Não rejeitamos a hipótese nula, a pressão arterial média é a mesma em todos os grupos étnicos.\n"
          ]
        }
      ]
    },
    {
      "cell_type": "markdown",
      "source": [
        "7. Lúcia é uma pesquisadora e tem o objetivo de entender a relação de\n",
        "gênero neste grupo de pacientes. Acredita-se que há uma relação\n",
        "entre o sexo e condições de saúde adicionais. (Teste qui-quadrado)"
      ],
      "metadata": {
        "id": "meCweoiXopQV"
      }
    },
    {
      "cell_type": "code",
      "source": [
        "# Hipótese 0 = Há relação entre sexo e condições de saúde adicionais\n",
        "# Hipótese 1 = Não há relação entre sexo e condições de saúde adicionais\n",
        "\n",
        "# Selecionando apenas o estado de saúde que tem condições adicionais\n",
        "saude_adicionais = df_pacientes[df_pacientes['Nome_Estado_Saude'] == 'Com condições de saúde adicionais']\n",
        "\n",
        "# calculo do qui-quadrado sobre a idade e a pressão arterial\n",
        "chi2, p_valor, _, _ = chi2_contingency(pd.crosstab(df_pacientes['Nome_Genero'], saude_adicionais['Nome_Estado_Saude']))\n",
        "\n",
        "# Valor alpha oferecido pelo exercicio\n",
        "alpha = 0.05\n",
        "\n",
        "# Comparando para descobrir o resultado da hipótese\n",
        "if p_valor < alpha:\n",
        "  print('Rejeitamos a hipótese nula')\n",
        "else:\n",
        "  print('Não rejeitamos a hipótese nula, há relação entre sexo e condições de saúde adicionais')"
      ],
      "metadata": {
        "id": "y_A0xyLNopiP",
        "colab": {
          "base_uri": "https://localhost:8080/"
        },
        "outputId": "b2365269-1fd0-4968-ccc1-c43e8ef19ebd"
      },
      "execution_count": null,
      "outputs": [
        {
          "output_type": "stream",
          "name": "stdout",
          "text": [
            "Não rejeitamos a hipótese nula, há relação entre sexo e condições de saúde adicionais\n"
          ]
        }
      ]
    },
    {
      "cell_type": "markdown",
      "source": [
        "8. Existe uma associação entre a idade dos pacientes e sua pressão\n",
        "arterial?\n",
        "\n",
        "***a. Hipótese Nula (H0):*** A idade dos pacientes é independente da\n",
        "pressão arterial.\n",
        "\n",
        "***b. Hipótese Alternativa (H1):*** A idade dos pacientes está associada à\n",
        "sua pressão arterial.\n"
      ],
      "metadata": {
        "id": "NFlQ9nIgpIkf"
      }
    },
    {
      "cell_type": "code",
      "source": [
        "# calculo do qui-quadrado sobre a idade e a pressão arterial\n",
        "chi2, p_valor, _, _  = chi2_contingency(pd.crosstab(df_pacientes['Idade'], df_pacientes['Pressao_Arterial']))\n",
        "\n",
        "# Valor alpha oferecido pelo exercicio\n",
        "alpha = 0.05\n",
        "\n",
        "# Comparando para descobrir o resultado da hipótese\n",
        "if p_valor < alpha:\n",
        "  print('Rejeitamos a hipótese nula')\n",
        "else:\n",
        "  print('Não rejeitamos a hipótese nula, a idade dos pacientes é independente da pressão arterial.')"
      ],
      "metadata": {
        "id": "XU9KWlkTpI5R",
        "colab": {
          "base_uri": "https://localhost:8080/"
        },
        "outputId": "172e945b-ab81-434d-fc2c-d00c98fdff0b"
      },
      "execution_count": null,
      "outputs": [
        {
          "output_type": "stream",
          "name": "stdout",
          "text": [
            "Não rejeitamos a hipótese nula, a idade dos pacientes é independente da pressão arterial.\n"
          ]
        }
      ]
    },
    {
      "cell_type": "markdown",
      "source": [
        "9. Qual é o intervalo de confiança para a média da pressão arterial entre\n",
        "os pacientes com condições de saúde adicionais? (nível de confiança\n",
        "95%)"
      ],
      "metadata": {
        "id": "iezc0rHNpJJF"
      }
    },
    {
      "cell_type": "code",
      "source": [
        "# Selecionando pacientes com condições de saúde adicionais e suas pressões arteriais\n",
        "adicional = df_pacientes[df_pacientes['Estado_Saude'] == 1]\n",
        "\n",
        "# Calculando a média e o desvio padrão\n",
        "media = adicional['Pressao_Arterial'].mean()\n",
        "desvio_padrao = adicional['Pressao_Arterial'].std()\n",
        "\n",
        "confianca = 0.95\n",
        "\n",
        "z = norm.ppf((1 + confianca) / 2)\n",
        "\n",
        "erro_padrao = desvio_padrao / np.sqrt(len(adicional))\n",
        "\n",
        "intervalo_confianca = z * erro_padrao\n",
        "\n",
        "limite_inferior = media - intervalo_confianca\n",
        "limite_superior = media + intervalo_confianca\n",
        "\n",
        "print('Intervalo de confiança para a média da pressão arterial:')\n",
        "print(\"Limite inferior:\", limite_inferior.round(2))\n",
        "print(\"Limite superior:\", limite_superior.round(2))"
      ],
      "metadata": {
        "id": "ElGdckAgpJec",
        "colab": {
          "base_uri": "https://localhost:8080/"
        },
        "outputId": "8708135d-cae1-4991-e300-74aa56273549"
      },
      "execution_count": null,
      "outputs": [
        {
          "output_type": "stream",
          "name": "stdout",
          "text": [
            "Intervalo de confiança para a média da pressão arterial:\n",
            "Limite inferior: 149.22\n",
            "Limite superior: 151.02\n"
          ]
        }
      ]
    },
    {
      "cell_type": "markdown",
      "source": [
        "10. A distribuição da pressão arterial na população segue uma distribuição\n",
        "normal?\n",
        "\n",
        "***a. Hipótese Nula (H0):*** A distribuição da pressão arterial na\n",
        "população segue uma distribuição normal.\n",
        "\n",
        "***b. Hipótese Alternativa (H1):*** A distribuição da pressão arterial na\n",
        "população não segue uma distribuição normal."
      ],
      "metadata": {
        "id": "Ks-eeJPMpJt8"
      }
    },
    {
      "cell_type": "code",
      "source": [
        "# Dados da pressão arterial\n",
        "dados_pressao_arterial = df_pacientes['Pressao_Arterial']\n",
        "\n",
        "# Executar o teste de Kolmogorov-Smirnov\n",
        "statistic, p_valor = kstest(dados_pressao_arterial, 'norm')\n",
        "\n",
        "# Nível de significância (alpha)\n",
        "alpha = 0.05\n",
        "\n",
        "# Comparar o valor-p com o nível de significância\n",
        "if p_valor < alpha:\n",
        "  print('Rejeitamos a hipótese nula, a distribuição da pressão arterial na população não segue uma distribuição normal')\n",
        "else:\n",
        "  print('Não rejeitamos a hipótese nula')"
      ],
      "metadata": {
        "id": "_Vl6wnlbpKET",
        "colab": {
          "base_uri": "https://localhost:8080/"
        },
        "outputId": "52d3e2d6-fae9-4dab-dd30-28f5deb46c28"
      },
      "execution_count": null,
      "outputs": [
        {
          "output_type": "stream",
          "name": "stdout",
          "text": [
            "Rejeitamos a hipótese nula, a distribuição da pressão arterial na população não segue uma distribuição normal\n"
          ]
        }
      ]
    }
  ]
}